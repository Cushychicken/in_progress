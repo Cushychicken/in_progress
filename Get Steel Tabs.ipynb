{
 "metadata": {
  "name": ""
 },
 "nbformat": 3,
 "nbformat_minor": 0,
 "worksheets": [
  {
   "cells": [
    {
     "cell_type": "raw",
     "metadata": {},
     "source": [
      "---\n",
      "layout: post\n",
      "title: \"Scraping Practice Material in Python\"\n",
      "date: 2014-06-02    \n",
      "---"
     ]
    },
    {
     "cell_type": "markdown",
     "metadata": {},
     "source": [
      "I have a love bordering on obsession with steel guitars; my latest musical endeavour is learning the pedal steel guitar. If you're not familiar, it's easier to show rather than tell - here's [the great Buddy Emmons](https://www.youtube.com/watch?v=21TI7vlOdh4) accompanying Ray Price on \"Night Life\". Buddy's the guy in the bowler hat sitting behind the thing that looks like a table; that table is the pedal steel. It's a great instrument, but supremely complicated to learn - in no large part due to the lack of teaching material available. That's why I was so pumped to find [Greg Cutshaw's steel guitar page](http://www.gregcutshaw.com/). Greg's been kind enough to put together tab of all the great steel guitar riffs he's written over the years. On top of that, he put them up on his website - for free! Spend a few hours combing Amazon for \"C6 pedal steel instruction\" and you'll see why this is such a gold mine!\n",
      "\n",
      "For all of the great info on Greg's page, however, the UX leaves something to be desired. Navigation, generally, is a bit of a headache.  Each page has linked JPGs or PDFs, each with its own (rarely consistent) naming scheme. I'd like to be able to flip through these in the Finder on my Mac, maybe print them out into a book, or (if I get really ambitious) arrange them into an Anki set with audio samples. To do any of that, however, you first need to grab the images - all 25 pages of them, with ~50 tabs per page. Who wants to do that by hand when we've got Python to do it for us?\n",
      "\n",
      "<div align=\"center\">\n",
      "<img src=\"./files/cutshawsite.png\"/>\n",
      "<p align=\"center\"><em>You're bound to see some Web 1.0 when searching for pedal steel tab.</em></p>\n",
      "</div>"
     ]
    },
    {
     "cell_type": "markdown",
     "metadata": {},
     "source": [
      "Some quick digging into the source shows that the code's arranged pretty simply - just a big HTML table. I whipped up the following scraping function using BeautifulSoup to go through and pull out the title of each of Greg's tabs, plus the path of the tab file. I sprinkled in a dash of exception handling to deal with any possible formatting foibles along the way. "
     ]
    },
    {
     "cell_type": "code",
     "collapsed": false,
     "input": [
      "from bs4 import BeautifulSoup\n",
      "import re\n",
      "\n",
      "pdf_re = re.compile(r'.*(\\.pdf|\\.jpg)') # Quick regex to check for file\n",
      "\n",
      "def tabscrape(pagetext):\n",
      "    tempdata = []\n",
      "    soup = BeautifulSoup(pagetext)\n",
      "    for tr in soup.find_all('tr')[1:]:\n",
      "        try:\n",
      "            td = tr.find_all('td')\n",
      "            if pdf_re.search(td[1].a['href']):\n",
      "                tmp = [ td[0].text.strip(), td[1].a['href'] ]\n",
      "                tempdata.append(tmp)\n",
      "        except Exception as e:\n",
      "            print tr\n",
      "            print e\n",
      "            pass\n",
      "    return tempdata"
     ],
     "language": "python",
     "metadata": {},
     "outputs": [],
     "prompt_number": 4
    },
    {
     "cell_type": "markdown",
     "metadata": {},
     "source": [
      "The URL structure of the index pages isn't hard to figure out - just a sequence starting from `Tab2.html` and ending at `Tab24.html`. Iterate over that range, make a few HTTP requests, and you've got a nice big data structure with all of the tab names and files at your disposal!"
     ]
    },
    {
     "cell_type": "code",
     "collapsed": false,
     "input": [
      "import requests\n",
      "\n",
      "BASE_URL = 'http://www.gregcutshaw.com/Tab/'\n",
      "INDEX_URL = 'Tab%d.html'\n",
      "\n",
      "alltabs = []\n",
      "for a in range(2, 24):\n",
      "    r = requests.get(BASE_URL + (INDEX_URL % a))\n",
      "    print 'Scraping page %d...' % a\n",
      "    pagetabs = tabscrape(r.text)\n",
      "    alltabs = alltabs + pagetabs"
     ],
     "language": "python",
     "metadata": {},
     "outputs": [
      {
       "output_type": "stream",
       "stream": "stdout",
       "text": [
        "Scraping page 2...\n",
        "Scraping page 3..."
       ]
      },
      {
       "output_type": "stream",
       "stream": "stdout",
       "text": [
        "\n",
        "Scraping page 4..."
       ]
      },
      {
       "output_type": "stream",
       "stream": "stdout",
       "text": [
        "\n",
        "Scraping page 5..."
       ]
      },
      {
       "output_type": "stream",
       "stream": "stdout",
       "text": [
        "\n",
        "Scraping page 6..."
       ]
      },
      {
       "output_type": "stream",
       "stream": "stdout",
       "text": [
        "\n",
        "Scraping page 7..."
       ]
      },
      {
       "output_type": "stream",
       "stream": "stdout",
       "text": [
        "\n",
        "Scraping page 8..."
       ]
      },
      {
       "output_type": "stream",
       "stream": "stdout",
       "text": [
        "\n",
        "Scraping page 9..."
       ]
      },
      {
       "output_type": "stream",
       "stream": "stdout",
       "text": [
        "\n",
        "Scraping page 10..."
       ]
      },
      {
       "output_type": "stream",
       "stream": "stdout",
       "text": [
        "\n",
        "<tr>\n",
        "<td>\r\n",
        "         There Is Power In The Blood - E9 - Key of G   \r\n",
        "      </td>\n",
        "<td>\r\n",
        "      \r\n",
        "           TBD\r\n",
        "            </td>\n",
        "<td>\n",
        "<a href=\"../Samples/There Is Power In The Blood.wma\"><font color=\"#0000ff\">Audio</font></a><br/>\n",
        "<a href=\"There Is Power In The Blood Track.wma\"><font color=\"#0000ff\">Rhythm Track</font></a>\n",
        "</td></tr>\n",
        "'NoneType' object has no attribute '__getitem__'\n",
        "<tr>\n",
        "<td>\r\n",
        "         Where Could I Go - E9 - Key of E   \r\n",
        "       </td>\n",
        "<td>\r\n",
        "     TBD\r\n",
        "           \r\n",
        "            </td>\n",
        "<td>\n",
        "<a href=\"../Samples/Where Could I Go.wma\"><font color=\"#0000ff\">Audio</font></a><br/>\n",
        "<a href=\"Where Could I Go Track.wma\"><font color=\"#0000ff\">Rhythm Track</font></a>\n",
        "</td></tr>\n",
        "'NoneType' object has no attribute '__getitem__'\n",
        "Scraping page 11..."
       ]
      },
      {
       "output_type": "stream",
       "stream": "stdout",
       "text": [
        "\n",
        "Scraping page 12..."
       ]
      },
      {
       "output_type": "stream",
       "stream": "stdout",
       "text": [
        "\n",
        "Scraping page 13..."
       ]
      },
      {
       "output_type": "stream",
       "stream": "stdout",
       "text": [
        "\n",
        "Scraping page 14..."
       ]
      },
      {
       "output_type": "stream",
       "stream": "stdout",
       "text": [
        "\n",
        "Scraping page 15..."
       ]
      },
      {
       "output_type": "stream",
       "stream": "stdout",
       "text": [
        "\n",
        "Scraping page 16..."
       ]
      },
      {
       "output_type": "stream",
       "stream": "stdout",
       "text": [
        "\n",
        "Scraping page 17..."
       ]
      },
      {
       "output_type": "stream",
       "stream": "stdout",
       "text": [
        "\n",
        "Scraping page 18..."
       ]
      },
      {
       "output_type": "stream",
       "stream": "stdout",
       "text": [
        "\n",
        "<tr>\n",
        "</tr>\n",
        "list index out of range\n",
        "Scraping page 19..."
       ]
      },
      {
       "output_type": "stream",
       "stream": "stdout",
       "text": [
        "\n",
        "Scraping page 20..."
       ]
      },
      {
       "output_type": "stream",
       "stream": "stdout",
       "text": [
        "\n",
        "Scraping page 21..."
       ]
      },
      {
       "output_type": "stream",
       "stream": "stdout",
       "text": [
        "\n",
        "Scraping page 22..."
       ]
      },
      {
       "output_type": "stream",
       "stream": "stdout",
       "text": [
        "\n",
        "Scraping page 23..."
       ]
      },
      {
       "output_type": "stream",
       "stream": "stdout",
       "text": [
        "\n"
       ]
      }
     ],
     "prompt_number": 5
    },
    {
     "cell_type": "code",
     "collapsed": false,
     "input": [
      "alltabs\n",
      "\n",
      "result = pdf_re.search(alltabs[0][1])\n",
      "r = requests.get(BASE_URL + alltabs[0][1], stream=True)\n",
      "if r.status_code == 200:\n",
      "    with open(alltabs[0][0] + result.group(1), \"wb\") as f: \n",
      "        for block in r.iter_content(1024):\n",
      "            if not block:\n",
      "                break\n",
      "            f.write(block)"
     ],
     "language": "python",
     "metadata": {},
     "outputs": [],
     "prompt_number": 8
    },
    {
     "cell_type": "markdown",
     "metadata": {},
     "source": [
      "It's important to check for a successful HTTP request - I found out that a few of the links were broken when they crashed and threw 404 errors. Even with those, however, it's probably the quickest way I know of to net about 400 free pedal steel practice tabs, as well as a fun way to sharpen some Python skills. \n",
      "\n",
      "Feel free to get in touch if you'd like all of the steel tabs as a .zip file!"
     ]
    },
    {
     "cell_type": "code",
     "collapsed": false,
     "input": [],
     "language": "python",
     "metadata": {},
     "outputs": []
    }
   ],
   "metadata": {}
  }
 ]
}